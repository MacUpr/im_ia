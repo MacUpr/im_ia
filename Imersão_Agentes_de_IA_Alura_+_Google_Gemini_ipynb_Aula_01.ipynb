{
  "nbformat": 4,
  "nbformat_minor": 0,
  "metadata": {
    "colab": {
      "provenance": [],
      "include_colab_link": true
    },
    "kernelspec": {
      "name": "python3",
      "display_name": "Python 3"
    },
    "language_info": {
      "name": "python"
    }
  },
  "cells": [
    {
      "cell_type": "markdown",
      "metadata": {
        "id": "view-in-github",
        "colab_type": "text"
      },
      "source": [
        "<a href=\"https://colab.research.google.com/github/MacUpr/im_ia/blob/main/Imers%C3%A3o_Agentes_de_IA_Alura_%2B_Google_Gemini_ipynb_Aula_01.ipynb\" target=\"_parent\"><img src=\"https://colab.research.google.com/assets/colab-badge.svg\" alt=\"Open In Colab\"/></a>"
      ]
    },
    {
      "cell_type": "markdown",
      "source": [
        "# Aula 01"
      ],
      "metadata": {
        "id": "7SlD7rndaQVD"
      }
    },
    {
      "cell_type": "code",
      "execution_count": 1,
      "metadata": {
        "id": "PHslr4rgVWVL",
        "colab": {
          "base_uri": "https://localhost:8080/"
        },
        "outputId": "54575af0-68ed-4635-b41d-fb7934b85520"
      },
      "outputs": [
        {
          "output_type": "stream",
          "name": "stdout",
          "text": [
            "\u001b[?25l   \u001b[90m━━━━━━━━━━━━━━━━━━━━━━━━━━━━━━━━━━━━━━━━\u001b[0m \u001b[32m0.0/42.0 kB\u001b[0m \u001b[31m?\u001b[0m eta \u001b[36m-:--:--\u001b[0m\r\u001b[2K   \u001b[90m━━━━━━━━━━━━━━━━━━━━━━━━━━━━━━━━━━━━━━━━\u001b[0m \u001b[32m42.0/42.0 kB\u001b[0m \u001b[31m1.2 MB/s\u001b[0m eta \u001b[36m0:00:00\u001b[0m\n",
            "\u001b[?25h"
          ]
        }
      ],
      "source": [
        "!pip install -q --upgrade langchain langchain-google-genai google-generativeai"
      ]
    },
    {
      "cell_type": "markdown",
      "source": [
        "Importação da API Key"
      ],
      "metadata": {
        "id": "KS8dxquvaWMa"
      }
    },
    {
      "cell_type": "code",
      "source": [
        "book on from google.colab import userdata\n",
        "from langchain_google_genai import ChatGoogleGenerativeAI\n",
        "\n",
        "GOOGLE_API_KEY = userdata.get('GEMINI_API_KEY')"
      ],
      "metadata": {
        "id": "zzT-C5uiWILN",
        "colab": {
          "base_uri": "https://localhost:8080/",
          "height": 297
        },
        "outputId": "0ad873c4-9b7c-4dd9-d406-302300537c61"
      },
      "execution_count": 2,
      "outputs": [
        {
          "output_type": "error",
          "ename": "SecretNotFoundError",
          "evalue": "Secret GEMINI_API_KEY does not exist.",
          "traceback": [
            "\u001b[0;31m---------------------------------------------------------------------------\u001b[0m",
            "\u001b[0;31mSecretNotFoundError\u001b[0m                       Traceback (most recent call last)",
            "\u001b[0;32m/tmp/ipython-input-3109593305.py\u001b[0m in \u001b[0;36m<cell line: 0>\u001b[0;34m()\u001b[0m\n\u001b[1;32m      2\u001b[0m \u001b[0;32mfrom\u001b[0m \u001b[0mlangchain_google_genai\u001b[0m \u001b[0;32mimport\u001b[0m \u001b[0mChatGoogleGenerativeAI\u001b[0m\u001b[0;34m\u001b[0m\u001b[0;34m\u001b[0m\u001b[0m\n\u001b[1;32m      3\u001b[0m \u001b[0;34m\u001b[0m\u001b[0m\n\u001b[0;32m----> 4\u001b[0;31m \u001b[0mGOOGLE_API_KEY\u001b[0m \u001b[0;34m=\u001b[0m \u001b[0muserdata\u001b[0m\u001b[0;34m.\u001b[0m\u001b[0mget\u001b[0m\u001b[0;34m(\u001b[0m\u001b[0;34m'GEMINI_API_KEY'\u001b[0m\u001b[0;34m)\u001b[0m\u001b[0;34m\u001b[0m\u001b[0;34m\u001b[0m\u001b[0m\n\u001b[0m",
            "\u001b[0;32m/usr/local/lib/python3.12/dist-packages/google/colab/userdata.py\u001b[0m in \u001b[0;36mget\u001b[0;34m(key)\u001b[0m\n\u001b[1;32m     66\u001b[0m     \u001b[0;32mraise\u001b[0m \u001b[0mTimeoutException\u001b[0m\u001b[0;34m(\u001b[0m\u001b[0mkey\u001b[0m\u001b[0;34m)\u001b[0m\u001b[0;34m\u001b[0m\u001b[0;34m\u001b[0m\u001b[0m\n\u001b[1;32m     67\u001b[0m   \u001b[0;32mif\u001b[0m \u001b[0;32mnot\u001b[0m \u001b[0mresp\u001b[0m\u001b[0;34m.\u001b[0m\u001b[0mget\u001b[0m\u001b[0;34m(\u001b[0m\u001b[0;34m'exists'\u001b[0m\u001b[0;34m,\u001b[0m \u001b[0;32mFalse\u001b[0m\u001b[0;34m)\u001b[0m\u001b[0;34m:\u001b[0m\u001b[0;34m\u001b[0m\u001b[0;34m\u001b[0m\u001b[0m\n\u001b[0;32m---> 68\u001b[0;31m     \u001b[0;32mraise\u001b[0m \u001b[0mSecretNotFoundError\u001b[0m\u001b[0;34m(\u001b[0m\u001b[0mkey\u001b[0m\u001b[0;34m)\u001b[0m\u001b[0;34m\u001b[0m\u001b[0;34m\u001b[0m\u001b[0m\n\u001b[0m\u001b[1;32m     69\u001b[0m   \u001b[0;32mif\u001b[0m \u001b[0;32mnot\u001b[0m \u001b[0mresp\u001b[0m\u001b[0;34m.\u001b[0m\u001b[0mget\u001b[0m\u001b[0;34m(\u001b[0m\u001b[0;34m'access'\u001b[0m\u001b[0;34m,\u001b[0m \u001b[0;32mFalse\u001b[0m\u001b[0;34m)\u001b[0m\u001b[0;34m:\u001b[0m\u001b[0;34m\u001b[0m\u001b[0;34m\u001b[0m\u001b[0m\n\u001b[1;32m     70\u001b[0m     \u001b[0;32mraise\u001b[0m \u001b[0mNotebookAccessError\u001b[0m\u001b[0;34m(\u001b[0m\u001b[0mkey\u001b[0m\u001b[0;34m)\u001b[0m\u001b[0;34m\u001b[0m\u001b[0;34m\u001b[0m\u001b[0m\n",
            "\u001b[0;31mSecretNotFoundError\u001b[0m: Secret GEMINI_API_KEY does not exist."
          ]
        }
      ]
    },
    {
      "cell_type": "markdown",
      "source": [
        "Conexão com o Gemini"
      ],
      "metadata": {
        "id": "pZrwAO37aYga"
      }
    },
    {
      "cell_type": "code",
      "source": [
        "llm = ChatGoogleGenerativeAI(\n",
        "    model=\"gemini-2.5-flash\",\n",
        "    temperature=0.0,\n",
        "    api_key=GOOGLE_API_KEY\n",
        ")"
      ],
      "metadata": {
        "id": "NNm7FXjXYR-g"
      },
      "execution_count": null,
      "outputs": []
    },
    {
      "cell_type": "code",
      "source": [
        "resp_test = llm.invoke(\"Quem é você? Seja criativo.\")\n",
        "print(resp_test.content)"
      ],
      "metadata": {
        "id": "0G7bN2ynabhM"
      },
      "execution_count": null,
      "outputs": []
    },
    {
      "cell_type": "code",
      "source": [
        "TRIAGEM_PROMPT = (\n",
        "    \"Você é um triador de Service Desk para políticas internas da empresa Carraro Desenvolvimento. \"\n",
        "    \"Seu objetivo é classificar as mensagens dos usuários em uma das seguintes categorias:\\n\"\n",
        "    \"{\\n\"\n",
        "    '  \"decisao\": \"AUTO_RESOLVER\" | \"PEDIR_INFO\" | \"ABRIR_CHAMADO\",\\n'\n",
        "    '  \"urgencia\": \"BAIXA\" | \"MEDIA\" | \"ALTA\",\\n'\n",
        "    '  \"campos_faltantes\": [\"...\"]\\n'\n",
        "    \"}\\n\"\n",
        "    \"Considere as seguintes regras para a classificação:\\n\"\n",
        "    '- **AUTO_RESOLVER**: Use esta opção quando a pergunta for clara e puder ser respondida diretamente com base nas políticas internas. Exemplos incluem perguntas sobre reembolso de despesas, procedimentos de trabalho remoto, ou outras regras documentadas.\\n'\n",
        "    '- **PEDIR_INFO**: Use esta opção quando a mensagem for vaga, ambígua, ou faltarem informações cruciais para entender a solicitação. Inclua na lista `campos_faltantes` quais informações adicionais são necessárias.\\n'\n",
        "    '- **ABRIR_CHAMADO**: Use esta opção para solicitações que exigem ação ou aprovação de um departamento específico (como RH, TI, Financeiro) ou quando o usuário explicitamente pede para abrir um chamado. Exemplos incluem pedidos de exceção a políticas, liberação de acesso, ou solicitações que requerem intervenção humana.\\n'\n",
        "    \"Analise cuidadosamente a mensagem do usuário e forneça a classificação no formato JSON especificado.\"\n",
        ")"
      ],
      "metadata": {
        "id": "jDfTiUi0bSv4"
      },
      "execution_count": null,
      "outputs": []
    },
    {
      "cell_type": "code",
      "source": [
        "from pydantic import BaseModel, Field\n",
        "from typing import Literal, List, Dict\n",
        "\n",
        "class TriagemOut(BaseModel):\n",
        "    decisao: Literal[\"AUTO_RESOLVER\", \"PEDIR_INFO\", \"ABRIR_CHAMADO\"] = Field(description=\"A decisão da triagem baseada na mensagem do usuário.\")\n",
        "    urgencia: Literal[\"BAIXA\", \"MEDIA\", \"ALTA\"] = Field(description=\"O nível de urgência da solicitação do usuário.\")\n",
        "    campos_faltantes: List[str] = Field(default_factory=list, description=\"Lista de campos ou informações que faltam na mensagem do usuário para processar a solicitação.\")"
      ],
      "metadata": {
        "id": "OzUoKnnxe3Tp"
      },
      "execution_count": null,
      "outputs": []
    },
    {
      "cell_type": "code",
      "source": [
        "llm_triagem = ChatGoogleGenerativeAI(\n",
        "    model=\"gemini-2.5-flash\",\n",
        "    temperature=0.0,\n",
        "    api_key=GOOGLE_API_KEY\n",
        ")"
      ],
      "metadata": {
        "id": "DB0qKzkjgUJF"
      },
      "execution_count": null,
      "outputs": []
    },
    {
      "cell_type": "code",
      "source": [
        "from langchain_core.messages import SystemMessage, HumanMessage\n",
        "\n",
        "triagem_chain = llm_triagem.with_structured_output(TriagemOut)\n",
        "\n",
        "def triagem(mensagem: str) -> Dict:\n",
        "    try:\n",
        "        saida: TriagemOut = triagem_chain.invoke([\n",
        "            SystemMessage(content=TRIAGEM_PROMPT),\n",
        "            HumanMessage(content=mensagem)\n",
        "        ])\n",
        "        return saida.model_dump()\n",
        "    except Exception as e:\n",
        "        print(f\"Error parsing structured output: {e}\")\n",
        "        return {\"error\": \"Could not parse structured output.\"}"
      ],
      "metadata": {
        "id": "ljP2Kf6xggJf"
      },
      "execution_count": null,
      "outputs": []
    },
    {
      "cell_type": "code",
      "source": [
        "testes = [\n",
        "    \"Posso reembolsar a internet?\",\n",
        "    \"Quero mais 5 dias de trabalho remoto. Como faço?\",\n",
        "    \"Posso reembolsar cursos ou treinamentos da Alura?\",\n",
        "    \"Quantas capivaras tem no Rio Pinheiros?\",\n",
        "    \"Preciso de um novo mouse, o meu parou de funcionar.\", # Exemplo para ABRIR_CHAMADO (TI)\n",
        "    \"Qual o procedimento para solicitar férias?\", # Exemplo para AUTO_RESOLVER (RH/Política)\n",
        "    \"Minha solicitação de reembolso ainda não foi aprovada.\", # Exemplo para ABRIR_CHAMADO (Financeiro/Follow-up)\n",
        "    \"Gostaria de saber sobre os benefícios de plano de saúde.\", # Exemplo para AUTO_RESOLVER (RH/Política)\n",
        "    \"Preciso de ajuda com um problema no sistema X, não consigo acessar meus dados.\", # Exemplo para ABRIR_CHAMADO (TI)\n",
        "    \"Como faço para atualizar minhas informações de contato?\", # Exemplo para AUTO_RESOLVER (RH/Procedimento)\n",
        "    \"Tenho uma dúvida sobre a política de viagens, a empresa cobre alimentação?\", # Exemplo para AUTO_RESOLVER (Política)\n",
        "    \"Não entendi a última comunicação sobre as novas diretrizes de segurança, podem explicar melhor?\", # Exemplo para PEDIR_INFO\n",
        "    \"Preciso de acesso ao sistema Y para o projeto Z.\", # Exemplo para ABRIR_CHAMADO (TI/Acesso)\n",
        "    \"Qual o prazo para reembolso de despesas de viagem?\", # Exemplo para AUTO_RESOLVER (Política/Prazo)\n",
        "    \"Tive um problema com meu crachá, ele não está funcionando.\", # Exemplo para ABRIR_CHAMADO (TI/Hardware)\n",
        "    \"Gostaria de saber se a empresa oferece algum tipo de auxílio para desenvolvimento profissional além dos treinamentos obrigatórios.\", # Exemplo para AUTO_RESOLVER (RH/Política)\n",
        "    \"A internet na minha casa está muito lenta, isso afeta meu trabalho remoto. O que posso fazer?\", # Exemplo para ABRIR_CHAMADO (TI/Suporte)\n",
        "    \"Preciso de uma declaração de vínculo empregatício.\", # Exemplo para ABRIR_CHAMADO (RH/Documento)\n",
        "    \"Qual o horário de funcionamento do escritório?\", # Exemplo para AUTO_RESOLVER (Geral)\n",
        "    \"Não consigo instalar o software Z no meu notebook da empresa.\", # Exemplo para ABRIR_CHAMADO (TI/Software)\n",
        "]"
      ],
      "metadata": {
        "id": "-OR0GRuyrO9w"
      },
      "execution_count": null,
      "outputs": []
    },
    {
      "cell_type": "code",
      "source": [
        "for msg_teste in testes:\n",
        "    print(f\"Pergunta: {msg_teste}\")\n",
        "    resposta = triagem(msg_teste)\n",
        "    if \"error\" in resposta:\n",
        "        print(f\" -> Resposta: {resposta['error']}\\n\")\n",
        "    else:\n",
        "        print(f\" -> Decisão: {resposta['decisao']}\")\n",
        "        print(f\" -> Urgência: {resposta['urgencia']}\")\n",
        "        if resposta['campos_faltantes']:\n",
        "            print(f\" -> Campos Faltantes: {', '.join(resposta['campos_faltantes'])}\")\n",
        "        print()"
      ],
      "metadata": {
        "id": "MK4KoXYkr0hX"
      },
      "execution_count": null,
      "outputs": []
    }
  ]
}